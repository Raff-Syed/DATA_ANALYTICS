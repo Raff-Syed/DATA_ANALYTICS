{
  "nbformat": 4,
  "nbformat_minor": 0,
  "metadata": {
    "colab": {
      "provenance": []
    },
    "kernelspec": {
      "name": "python3",
      "display_name": "Python 3"
    },
    "language_info": {
      "name": "python"
    }
  },
  "cells": [
    {
      "cell_type": "markdown",
      "source": [
        "**CONTROL STATEMENTS**\n",
        "\n",
        "if statement: It checks for the condition if the condition is true only then the statements inside the if block is executed.\n",
        "\n",
        "**SYNTAX**\n",
        "\n",
        "if condition:\n",
        "   \n",
        "      //Statements to be executed"
      ],
      "metadata": {
        "id": "duZKlOhBmDn-"
      }
    },
    {
      "cell_type": "code",
      "source": [
        "# Example for if statement\n",
        "a = 5\n",
        "if a <= 10:\n",
        "  print(\"THE VALUE WAS :  \",a)\n",
        "\n",
        "#Explaination : As in the above example the value of 'a=5' whcih is less than 10. So the statement inside the block will execute."
      ],
      "metadata": {
        "colab": {
          "base_uri": "https://localhost:8080/"
        },
        "id": "DWFq6qUFnv8b",
        "outputId": "952e3e4a-825b-4245-af4b-cf83f1b8e5fb"
      },
      "execution_count": 2,
      "outputs": [
        {
          "output_type": "stream",
          "name": "stdout",
          "text": [
            "THE VALUE WAS :   5\n"
          ]
        }
      ]
    },
    {
      "cell_type": "markdown",
      "source": [
        "* if - else Statements : It checks for the condition , if the is true the statements inside the if block will executed . If the condition is false then statements under else block will be executed.\n",
        "\n",
        "**SYNTAX**\n",
        "\n",
        "if condition :                   \n",
        "    \n",
        "    //statments to be executed when condition is true\n",
        "\n",
        "else :                                              \n",
        "      \n",
        "    //statements to executed when condition is false"
      ],
      "metadata": {
        "id": "6kghzEBGsp2u"
      }
    },
    {
      "cell_type": "code",
      "source": [
        "# Example for if - else statement. To find largest of  2 no's\n",
        "\n",
        "a = 10\n",
        "b = 20\n",
        "if a > b:\n",
        "  print(a,\"  is the largest value\")\n",
        "else:\n",
        "  print(b ,\" is the largest value\")\n",
        "\n",
        "#in the above example the value of a = 10 and b = 20. As the value of  'a' less than 'b' so the statement in else block will execute."
      ],
      "metadata": {
        "colab": {
          "base_uri": "https://localhost:8080/"
        },
        "id": "sux7ab2Xxjwr",
        "outputId": "d40fbbc6-e875-41d5-cc9d-15784323dda1"
      },
      "execution_count": 5,
      "outputs": [
        {
          "output_type": "stream",
          "name": "stdout",
          "text": [
            "20  is the largest value\n"
          ]
        }
      ]
    },
    {
      "cell_type": "markdown",
      "source": [
        "* elif statements : It allows the programmer to give multiple conditons.\n",
        "1. First the 'if condition' is checked , if the condition is true then the statement in if block will be executed.\n",
        "\n",
        "2. If the 'if condition' is false then the condition in elif is checked, and if it returns true then statements inside it will execute.\n",
        "\n",
        "3. Therefore a program can have mulitple elif statements as per the requirement.\n",
        "\n",
        "4. else block is executed only when all the above conditions are false."
      ],
      "metadata": {
        "id": "Ltl7Ob2mzT3b"
      }
    },
    {
      "cell_type": "code",
      "source": [
        "#Example program to print the grades of students\n",
        "\n",
        "marks = 45\n",
        "\n",
        "if marks >=85:\n",
        "  print(\"Destinction\")\n",
        "elif marks >= 75:\n",
        "  print(\"First Class\")\n",
        "elif marks >= 65:\n",
        "  print(\"Second Class\")\n",
        "elif marks >= 45:\n",
        "  print(\"Pass\")\n",
        "else:\n",
        "  print(\"Fail\")\n",
        "\n",
        "#in the above program the value for is 'marks = 45' it will compared marks will all the conditions and as the third elif condition is true the statement inside it will executed."
      ],
      "metadata": {
        "colab": {
          "base_uri": "https://localhost:8080/"
        },
        "id": "hygElN1A4BtD",
        "outputId": "8da66c54-0117-43e8-f3f2-692c3e19cacb"
      },
      "execution_count": 6,
      "outputs": [
        {
          "output_type": "stream",
          "name": "stdout",
          "text": [
            "Pass\n"
          ]
        }
      ]
    },
    {
      "cell_type": "markdown",
      "source": [
        "**NESTED IF**\n",
        "\n",
        "Having one if statement inside another if statement is known as **Nesting of If**.\n",
        "\n",
        "**SYNTAX**\n",
        "\n",
        "if condition:\n",
        "\n",
        "    \\\\statements\n",
        "\n",
        "    if condition:\n",
        "\n",
        "          \\\\statements\n",
        "\n",
        "  \n"
      ],
      "metadata": {
        "id": "BPQFd43gIVPU"
      }
    },
    {
      "cell_type": "code",
      "source": [
        "#Example for nested if\n",
        "\n",
        "i = 20\n",
        "if i >= 10:\n",
        "  print(i)\n",
        "  if i%2 != 0 :\n",
        "    print(i,\" is a odd number\")\n",
        "  else:\n",
        "    print(i, \"is an even number\")\n"
      ],
      "metadata": {
        "colab": {
          "base_uri": "https://localhost:8080/"
        },
        "id": "ooQe7jjmKBym",
        "outputId": "d353df41-fab8-4c46-cebe-6d3ec5b4ed98"
      },
      "execution_count": 40,
      "outputs": [
        {
          "output_type": "stream",
          "name": "stdout",
          "text": [
            "20\n",
            "20 is an even number\n"
          ]
        }
      ]
    },
    {
      "cell_type": "markdown",
      "source": [
        "**LOOPING STATEMENTS**\n",
        "\n",
        "* for loop : It is used to execute a statement again and again until the condition is true. It is used to travsel into the data structures like list, tuple , set and dictionary. It is used when the number of iterations are unknown.\n",
        "\n",
        "**SYNTAX**\n",
        "\n",
        "for val in sequence:\n",
        "    # statement(s)\n",
        "\n"
      ],
      "metadata": {
        "id": "QvbqTr6M8iw6"
      }
    },
    {
      "cell_type": "code",
      "source": [
        "#Example program to print the items of list using loops\n",
        "\n",
        "print(\"SYLABBUS FOR DATA SCIENCE\")\n",
        "print(\"\\n\")\n",
        "l1 = ['Python','SQL','Basic Maths','Machine Learning','Data Processing']\n",
        "for i in l1:\n",
        "  print(i)"
      ],
      "metadata": {
        "colab": {
          "base_uri": "https://localhost:8080/"
        },
        "id": "zRynYvp5-g2q",
        "outputId": "8b855a09-9da5-4757-c16d-76aa25e30c5b"
      },
      "execution_count": 10,
      "outputs": [
        {
          "output_type": "stream",
          "name": "stdout",
          "text": [
            "SYLABBUS FOR DATA SCIENCE\n",
            "\n",
            "\n",
            "Python\n",
            "SQL\n",
            "Basic Maths\n",
            "Machine Learning\n",
            "Data Processing\n"
          ]
        }
      ]
    },
    {
      "cell_type": "code",
      "source": [
        "#Example program to print numbers from in reverse\n",
        "\n",
        "print(\"Reverse Numbers\")\n",
        "print(\"\\n\")\n",
        "for i in range(9,0,-1):\n",
        "  print(i)\n"
      ],
      "metadata": {
        "colab": {
          "base_uri": "https://localhost:8080/"
        },
        "id": "SQiZmNxGAZVz",
        "outputId": "17cb7323-0385-470b-d998-623850d5e898"
      },
      "execution_count": 12,
      "outputs": [
        {
          "output_type": "stream",
          "name": "stdout",
          "text": [
            "Reverse Numbers\n",
            "\n",
            "\n",
            "9\n",
            "8\n",
            "7\n",
            "6\n",
            "5\n",
            "4\n",
            "3\n",
            "2\n",
            "1\n"
          ]
        }
      ]
    },
    {
      "cell_type": "markdown",
      "source": [
        "**While Loop**\n",
        "\n",
        "It is used to execute a statement again and again untill the condition becomes false.It is used when the number of iteration are known.\n",
        "\n",
        "**SYNTAX**\n",
        "\n",
        "while condition :  \n",
        "\n",
        "     \\\\Statements"
      ],
      "metadata": {
        "id": "Sg9wggHXBNba"
      }
    },
    {
      "cell_type": "code",
      "source": [
        "#Example program to print a statement 10 times\n",
        "\n",
        "i = 0\n",
        "while i < 10:\n",
        "  print(\"LEARN MORE AND EARN MORE\\n\")\n",
        "  i = i + 1"
      ],
      "metadata": {
        "colab": {
          "base_uri": "https://localhost:8080/"
        },
        "id": "Wz9WonouCOmy",
        "outputId": "a35caf0d-87ed-4c54-a87f-4b84cbb5d549"
      },
      "execution_count": 15,
      "outputs": [
        {
          "output_type": "stream",
          "name": "stdout",
          "text": [
            "LEARN MORE AND EARN MORE\n",
            "\n",
            "LEARN MORE AND EARN MORE\n",
            "\n",
            "LEARN MORE AND EARN MORE\n",
            "\n",
            "LEARN MORE AND EARN MORE\n",
            "\n",
            "LEARN MORE AND EARN MORE\n",
            "\n",
            "LEARN MORE AND EARN MORE\n",
            "\n",
            "LEARN MORE AND EARN MORE\n",
            "\n",
            "LEARN MORE AND EARN MORE\n",
            "\n",
            "LEARN MORE AND EARN MORE\n",
            "\n",
            "LEARN MORE AND EARN MORE\n",
            "\n"
          ]
        }
      ]
    },
    {
      "cell_type": "markdown",
      "source": [
        "**Nested Loops**\n",
        "\n",
        "Nested For Loop : placing one for loop inside another for loop is called **Nesting of For loop.**\n",
        "\n",
        "**SYNTAX**\n",
        "\n",
        "for var in range():\n",
        "  \n",
        "    \\\\statements\n",
        "    \n",
        "    for var in range():\n",
        "      \n",
        "         \\\\statements"
      ],
      "metadata": {
        "id": "2pfbAU6NLlIf"
      }
    },
    {
      "cell_type": "code",
      "source": [
        "#example for nested loop\n",
        "\n",
        "list1 = ['monday','tuesday','wednesday','thursday','friday','saturday']\n",
        "for j in range(1,5):\n",
        "  print(j, \"week\")\n",
        "  for i in list1:\n",
        "    print(i)"
      ],
      "metadata": {
        "colab": {
          "base_uri": "https://localhost:8080/"
        },
        "id": "srgdIXdbMEiC",
        "outputId": "55ca87be-0a43-4e30-f538-085ced2704b4"
      },
      "execution_count": 37,
      "outputs": [
        {
          "output_type": "stream",
          "name": "stdout",
          "text": [
            "1 week\n",
            "monday\n",
            "tuesday\n",
            "wednesday\n",
            "thursday\n",
            "friday\n",
            "saturday\n",
            "2 week\n",
            "monday\n",
            "tuesday\n",
            "wednesday\n",
            "thursday\n",
            "friday\n",
            "saturday\n",
            "3 week\n",
            "monday\n",
            "tuesday\n",
            "wednesday\n",
            "thursday\n",
            "friday\n",
            "saturday\n",
            "4 week\n",
            "monday\n",
            "tuesday\n",
            "wednesday\n",
            "thursday\n",
            "friday\n",
            "saturday\n"
          ]
        }
      ]
    },
    {
      "cell_type": "markdown",
      "source": [
        "**JUMPING STATEMENTS**\n",
        "\n",
        "It is used to transfer the control from one part of program to another. There are 3 jumping loop statements namely:\n",
        "\n",
        "1. break : It is used to terminate the execution of program.\n",
        "\n",
        "2. continue : It is used skip only a particular iteration.\n",
        "\n",
        "3. pass : It indicates to do nothing."
      ],
      "metadata": {
        "id": "mUD95ymSDiIC"
      }
    },
    {
      "cell_type": "code",
      "source": [
        "#Example for break statements\n",
        "\n",
        "i = 0\n",
        "while i <= 5:\n",
        "  print(i)\n",
        "  i = i + 1\n",
        "  break\n",
        "\n",
        "#In the given program as soon as break statement executes the program will stop execution"
      ],
      "metadata": {
        "colab": {
          "base_uri": "https://localhost:8080/"
        },
        "id": "W6vxHLnCC6Gj",
        "outputId": "3006b664-89af-46c8-888c-1079371ce1bf"
      },
      "execution_count": 18,
      "outputs": [
        {
          "output_type": "stream",
          "name": "stdout",
          "text": [
            "0\n"
          ]
        }
      ]
    },
    {
      "cell_type": "code",
      "source": [
        "#Example for continue statements\n",
        "\n",
        "for i in range(0,9):\n",
        "  if i%2 == 0:\n",
        "    continue\n",
        "  print(i)\n",
        "\n",
        "# in the above program whenever a number is divisible by 2 it will be skipped.\n"
      ],
      "metadata": {
        "colab": {
          "base_uri": "https://localhost:8080/"
        },
        "id": "yz_zmnKmF0-G",
        "outputId": "97563c8e-07fb-44d9-c3f6-55e3a5478b4e"
      },
      "execution_count": 24,
      "outputs": [
        {
          "output_type": "stream",
          "name": "stdout",
          "text": [
            "1\n",
            "3\n",
            "5\n",
            "7\n"
          ]
        }
      ]
    },
    {
      "cell_type": "code",
      "source": [
        "#Example for pass statements\n",
        "i = 1\n",
        "if i == 10:\n",
        "  print(i)\n",
        "else:\n",
        "  pass\n",
        "\n",
        "#as the value of i is not 10 the else block will execute. As we have given pass nothing will be printed when condition is not satisfied."
      ],
      "metadata": {
        "id": "zvOgjdDDHhyl"
      },
      "execution_count": 27,
      "outputs": []
    }
  ]
}