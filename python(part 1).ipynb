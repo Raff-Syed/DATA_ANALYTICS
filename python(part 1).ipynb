{
  "nbformat": 4,
  "nbformat_minor": 0,
  "metadata": {
    "colab": {
      "provenance": []
    },
    "kernelspec": {
      "name": "python3",
      "display_name": "Python 3"
    },
    "language_info": {
      "name": "python"
    }
  },
  "cells": [
    {
      "cell_type": "markdown",
      "source": [
        "### **PYTHON**\n",
        "\n",
        "Python is a high-level, general-purpose programming language. Its design philosophy emphasizes code readability with the use of significant indentation. Python is dynamically typed and garbage-collected. It supports multiple programming paradigms, including structured, object-oriented and functional programming."
      ],
      "metadata": {
        "id": "WEYhNWqnhjg8"
      }
    },
    {
      "cell_type": "markdown",
      "source": [
        "**FEATURES OF PYTHON**\n",
        "\n",
        "\n",
        "\n",
        "1. Easy to Learn. One of the most significant features of Python is that it is very easy to learn.\n",
        "2. Easy to Code.\n",
        "3. Interpreted Language.\n",
        "4. Free and Open Source.\n",
        "5. Object-Oriented Language.\n",
        "6. Cross-Platform Language.\n",
        "7. Extensive Feature.\n",
        "8. High-Level Language."
      ],
      "metadata": {
        "id": "KHKVNKd_jZ1M"
      }
    },
    {
      "cell_type": "markdown",
      "source": [
        "TOKENS : It is the smallest individuals items in programming language. The various tokens in python are as follow.\n",
        "\n",
        "\n",
        "1.   Variable\n",
        "2.   Keywords\n",
        "3.   Identifiers\n",
        "4.   Operators\n",
        "5.   Datatypes\n",
        "6.   Strings\n",
        "\n"
      ],
      "metadata": {
        "id": "JLsAavAHmYf5"
      }
    },
    {
      "cell_type": "code",
      "source": [
        "#VARIABLES are used to store data, the values stored in variables can be changed during runtime.\n",
        "\n",
        "# SYNTAX :  variable_name = value\n",
        "\n",
        "a = 50\n",
        "b = 5.6\n",
        "c =\"Python programming\"\n",
        "print(a,b,c)\n"
      ],
      "metadata": {
        "colab": {
          "base_uri": "https://localhost:8080/"
        },
        "id": "7Ndr8W1Pk-jN",
        "outputId": "b8029a4b-c48e-4aa3-f6b0-2ec6d0a8c5f7"
      },
      "execution_count": 2,
      "outputs": [
        {
          "output_type": "stream",
          "name": "stdout",
          "text": [
            "50 5.6 Python programming\n"
          ]
        }
      ]
    },
    {
      "cell_type": "markdown",
      "source": [
        "**KEYWORDS**\n",
        "\n",
        "They are the reserved words with some meaning that cannot be changed the user. Keywords are always in lowercas.It is case sensitive.\n",
        "\n",
        "The following is the examples for keywords:\n",
        "\n",
        "\n",
        "1.   int\n",
        "2.   char\n",
        "3.   class\n",
        "4.   pass\n",
        "5.   break\n",
        "6.   if\n"
      ],
      "metadata": {
        "id": "wq2FEWZho0QR"
      }
    },
    {
      "cell_type": "markdown",
      "source": [
        "**IDENTIFIERS**\n",
        "\n",
        "They are user-defined names given to a variable, functions or a class.\n",
        "\n",
        "The rules for declaring a identifier is as follows:\n",
        "\n",
        "1. It can contain digits in middle or end but cannot start with a digit.\n",
        "2. It must begin with a letter.\n",
        "3. No special symbols are allowed execpt \"_\" (Underscore).\n",
        "4. It is case-sensitive. Both uppercase and lowercase have different meanings.\n",
        "5. Keywords cannot be used as Identifiers."
      ],
      "metadata": {
        "id": "7pRNJyHhps_r"
      }
    },
    {
      "cell_type": "markdown",
      "source": [
        "**OPERATORS** : They are used with oprands to perform some operations.\n",
        "\n",
        "The following are the operators in python:\n",
        "1. Arithmatic Operators\n",
        "2. Relational Operators\n",
        "3. Logical Operators\n",
        "4. Assignment Operators\n",
        "5. Bitwise Operators\n",
        "6. Membership Operators\n",
        "7. Identity Operators"
      ],
      "metadata": {
        "id": "4w4tD_o_rJcW"
      }
    },
    {
      "cell_type": "markdown",
      "source": [
        "**Arithmatic Operators**\n",
        "\n",
        " It is used to perform basic maths operations. It includes the followng operators:\n",
        "\n",
        "1. **+**  : This operator is used to perform addition.\n",
        "2. **-**  : This operator is used to perform subraction.\n",
        "3. '*'   : This operator is used to perform multiplication.\n",
        "4. **/**  :This operator is used to perform division and returns quoitent.   \n",
        "5. **%**  : This operator is used to perform division and returns the reminder.\n",
        "6. **//**  : This operator is used to perform division and rounds the quoitent to nearest integer.\n",
        "7. **  : This operator is used to get power values of numbers.  "
      ],
      "metadata": {
        "id": "VfP_G8upsfbL"
      }
    },
    {
      "cell_type": "code",
      "source": [
        "#Example for arithmatic operators\n",
        "\n",
        "a=12\n",
        "b=10\n",
        "print(\"The value of 'a' is \",a)\n",
        "print(\"The value of 'b' is \",b)\n",
        "\n",
        "print(\"Addition : \", a+b)\n",
        "print(\"Subtraction : \",a-b)\n",
        "print(\"Multiplication : \",a*b)\n",
        "print(\"Division to get quotient : \" ,a/b)\n",
        "print(\"Division to get remainder : \"a%b)\n",
        "print(\" Floor Division : \",a//b)\n",
        "print(\"Power values : \", a**b)\n"
      ],
      "metadata": {
        "colab": {
          "base_uri": "https://localhost:8080/"
        },
        "id": "WPgfbMogv-dw",
        "outputId": "8a17dbd3-c9c9-460f-fc2b-5248ff832d74"
      },
      "execution_count": 3,
      "outputs": [
        {
          "output_type": "stream",
          "name": "stdout",
          "text": [
            "The value of 'a' is  12\n",
            "The value of 'b' is  10\n",
            "Addition\n",
            "22\n",
            "Subtraction\n",
            "2\n",
            "Multiplication\n",
            "120\n",
            "Division to get quotient\n",
            "1.2\n",
            "Division to get remainder\n",
            "2\n",
            " Floor Division\n",
            "1\n",
            "Power values\n",
            "61917364224\n"
          ]
        }
      ]
    },
    {
      "cell_type": "markdown",
      "source": [
        "**RELATIONAL OPERATORS**\n",
        "\n",
        "This operators are used to compare two operands. It returns the value in form of **True** or **False**. The relational operators are as follows:\n",
        "1. **>**  : Greater than\n",
        "2. **<**  : Lesser than\n",
        "3. **==** : Equal to\n",
        "4. **!=** : Not Equal to\n",
        "5. **>=** : Greater than or equal to\n",
        "6. **<=** : Lesser than or equal to"
      ],
      "metadata": {
        "id": "m6GpsA11zS-y"
      }
    },
    {
      "cell_type": "code",
      "source": [
        "#Example for Relational operators\n",
        "\n",
        "a = 30\n",
        "b = 50\n",
        "\n",
        "print(\"Is the value of 'a' greater than 'b' : \", a>b)\n",
        "print(\"Is the value of 'a' lesser than 'b'  : \", a<b)\n",
        "print(\"Is the value of 'a' equal to 'b'     : \", a==b)\n",
        "print(\"Is the value of 'a' not equal to 'b' : \", a!=b)\n",
        "print(\"Is the value of 'a' greater than or equal to 'b' : \", a>=b)\n",
        "print(\"Is the value of 'a' lesser than or equal to 'b'  : \", a<=b)"
      ],
      "metadata": {
        "colab": {
          "base_uri": "https://localhost:8080/"
        },
        "id": "ySgy6mHX0lbW",
        "outputId": "d899e42a-72e1-4d18-9fc2-093dd668118d"
      },
      "execution_count": 8,
      "outputs": [
        {
          "output_type": "stream",
          "name": "stdout",
          "text": [
            "Is the value of 'a' greater than 'b' :  False\n",
            "Is the value of 'a' lesser than 'b'  :  True\n",
            "Is the value of 'a' equal to 'b'     :  False\n",
            "Is the value of 'a' not equal to 'b' :  True\n",
            "Is the value of 'a' greater than or equal to 'b' :  False\n",
            "Is the value of 'a' lesser than or equal to 'b'  :  True\n"
          ]
        }
      ]
    },
    {
      "cell_type": "markdown",
      "source": [
        "**LOGICAL OPERATORS**\n",
        "\n",
        "It is used to perform logical operators and also used to combine 2 or more expressions. There are 3 logical operators.\n",
        "\n",
        "1. **and** : It checks the expression only when all the conditions in an expression satisfies then it returns **True** else it returns **False**.\n",
        "2. **or** : It checks the expression when any one of the condition in an expression satisfies then it returns **True** only when all the conditions are not satisfied  it returns **False**.\n",
        "3.**not** :It checks the expression when all the conditions in an expression satisfies on then it returns **False** else if the conditions does not satisfes it returns **True**."
      ],
      "metadata": {
        "id": "uLMAZ6ap2d4N"
      }
    },
    {
      "cell_type": "code",
      "source": [
        "#Example of Logical operators\n",
        "\n",
        "a = 5\n",
        "b = 8\n",
        "print(\"AND OPERATOR \")\n",
        "print(\"a<b and a!=b :\" , a<b and a!=b)\n",
        "print(\"OR OPERATOR\")\n",
        "print(\"a==b or a<b :\",a==b or a<b)\n",
        "print(\"NOT OPERATOR \")\n",
        "print(\"not a!=b :\", not a!=b)\n"
      ],
      "metadata": {
        "colab": {
          "base_uri": "https://localhost:8080/"
        },
        "id": "swRvRmAm6MW4",
        "outputId": "a631f808-bf56-488c-cad0-335821b1237f"
      },
      "execution_count": 19,
      "outputs": [
        {
          "output_type": "stream",
          "name": "stdout",
          "text": [
            "AND OPERATOR \n",
            "a<b and a!=b : True\n",
            "OR OPERATOR\n",
            "a==b or a<b : True\n",
            "NOT OPERATOR \n",
            "not a!=b : False\n"
          ]
        }
      ]
    },
    {
      "cell_type": "markdown",
      "source": [
        "**ASSIGNMENT OPERATORS**\n",
        "\n",
        "This operators is used to assign values. The various assignment operators are:\n",
        "1. **=** : assigns the value on its left hand side to the variable on right hand side.\n",
        "2. **+=** : It adds the previous values of a variable with itself and assign the updated value to the same variable.\n",
        "3. **-=** : It subtracts the previous values of a variable with itself and assign the updated value to the same variable.\n",
        "4. *=  : It multiplies the previous values of a variable with itself and assign the updated value to the same variable.\n",
        "5. **/=** : It divides the previous values of a variable with itself and assign the updated quoitent value to the same variable.\n",
        "6. **%=** :It divides the previous values of a variable with itself and assign the updated remainder value to the same variable.\n",
        "7. **//=** :It performs floor division on previous values of a variable with itself and assign the updated value to the same variable.\n",
        "8. **= : It finds power of previous values of a variable with itself and assign the updated value to the same variable.\n",
        "\n"
      ],
      "metadata": {
        "id": "56DRTI4n8RzN"
      }
    },
    {
      "cell_type": "code",
      "source": [
        "#Assignment operators\n",
        "\n",
        "a = 5\n",
        "print(a)\n",
        "\n",
        "a+=10\n",
        "print(a)\n",
        "\n",
        "a-=2\n",
        "print(a)\n",
        "\n",
        "a*=2\n",
        "print(a)\n",
        "\n",
        "a/=2\n",
        "print(a)\n",
        "\n",
        "a%=2\n",
        "print(a)\n",
        "\n",
        "a//=1\n",
        "print(a)\n",
        "\n",
        "a**=5\n",
        "print(a)"
      ],
      "metadata": {
        "colab": {
          "base_uri": "https://localhost:8080/"
        },
        "id": "lb8qmctX_RIb",
        "outputId": "e166fa91-4190-4fe3-cf9e-19b250bd8a4c"
      },
      "execution_count": 25,
      "outputs": [
        {
          "output_type": "stream",
          "name": "stdout",
          "text": [
            "5\n",
            "15\n",
            "13\n",
            "26\n",
            "13.0\n",
            "1.0\n",
            "1.0\n",
            "1.0\n"
          ]
        }
      ]
    },
    {
      "cell_type": "markdown",
      "source": [
        "**MEMBERSHIP OPERATORS**\n",
        "\n",
        "There are two membership operators namely:\n",
        " 1. **in **: It checks wheather a particular letter present in the given string. It returns results in form of True and False.\n",
        " 2. **not in** :It checks wheather a particular letter is not present in the given string. It returns results in form of True and False.\n",
        "\n"
      ],
      "metadata": {
        "id": "90bP3EwfAN_u"
      }
    },
    {
      "cell_type": "code",
      "source": [
        "# Example for Membership Operator\n",
        "print('Is \"o\" present in \"programming\"  :',\"o\" in \"programming\")\n",
        "print('Is \"j\" present in \"programming\"  :',\"j\" in \"programming\")\n",
        "\n",
        "print('Is \"r\" not present in \"python\"  :',\"r\" not in \"python\")\n",
        "print('Is \"y\" not present in \"python\"  :',\"y\" not in \"python\")"
      ],
      "metadata": {
        "colab": {
          "base_uri": "https://localhost:8080/"
        },
        "id": "mlBAqNCEBudm",
        "outputId": "6b666098-f7e8-4b82-de9c-18a7b65052dd"
      },
      "execution_count": 33,
      "outputs": [
        {
          "output_type": "stream",
          "name": "stdout",
          "text": [
            "Is \"o\" present in \"programming\"  : True\n",
            "Is \"j\" present in \"programming\"  : False\n",
            "Is \"r\" not present in \"python\"  : True\n",
            "Is \"y\" not present in \"python\"  : False\n"
          ]
        }
      ]
    },
    {
      "cell_type": "markdown",
      "source": [
        "**IDENTITY OPERATORS**\n",
        "\n",
        "There are two identity operators namely:\n",
        "1. **is** : It is used to check wheather the value on left hand side is same as value on right hand side. It returns results as **True** or **False**.\n",
        "2. **is not** : It is used to check wheather the value on left hand side is not same as value on right hand side. It returns results as **True** or **False**.\n",
        "\n"
      ],
      "metadata": {
        "id": "kjUNG5-uDV3y"
      }
    },
    {
      "cell_type": "code",
      "source": [
        "#Example for Identity Operator\n",
        "\n",
        "print('Is \"sun\" same as \"sun\"',\"sun\" is \"sun\")\n",
        "print('Is \"sun\" same as \"son\"',\"sun\" is \"son\")\n",
        "print('Is \"p\" not same as \"plus\"',\"p\" is not \"plus\")\n",
        "print('Is \"p\" not same as \"p\"',\"p\" is \"plus\")\n",
        "\n",
        "#ignore the warnings which you get"
      ],
      "metadata": {
        "colab": {
          "base_uri": "https://localhost:8080/"
        },
        "id": "kIW2Utb_CsFy",
        "outputId": "f2c80488-ff7f-413b-86ce-339246425011"
      },
      "execution_count": 36,
      "outputs": [
        {
          "output_type": "stream",
          "name": "stdout",
          "text": [
            "Is \"sun\" same as \"sun\" True\n",
            "Is \"sun\" same as \"son\" False\n",
            "Is \"p\" not same as \"plus\" True\n",
            "Is \"p\" not same as \"p\" False\n"
          ]
        },
        {
          "output_type": "stream",
          "name": "stderr",
          "text": [
            "<>:3: SyntaxWarning: \"is\" with a literal. Did you mean \"==\"?\n",
            "<>:4: SyntaxWarning: \"is\" with a literal. Did you mean \"==\"?\n",
            "<>:5: SyntaxWarning: \"is not\" with a literal. Did you mean \"!=\"?\n",
            "<>:6: SyntaxWarning: \"is\" with a literal. Did you mean \"==\"?\n",
            "<>:3: SyntaxWarning: \"is\" with a literal. Did you mean \"==\"?\n",
            "<>:4: SyntaxWarning: \"is\" with a literal. Did you mean \"==\"?\n",
            "<>:5: SyntaxWarning: \"is not\" with a literal. Did you mean \"!=\"?\n",
            "<>:6: SyntaxWarning: \"is\" with a literal. Did you mean \"==\"?\n",
            "<ipython-input-36-0efcee03ea20>:3: SyntaxWarning: \"is\" with a literal. Did you mean \"==\"?\n",
            "  print('Is \"sun\" same as \"sun\"',\"sun\" is \"sun\")\n",
            "<ipython-input-36-0efcee03ea20>:4: SyntaxWarning: \"is\" with a literal. Did you mean \"==\"?\n",
            "  print('Is \"sun\" same as \"son\"',\"sun\" is \"son\")\n",
            "<ipython-input-36-0efcee03ea20>:5: SyntaxWarning: \"is not\" with a literal. Did you mean \"!=\"?\n",
            "  print('Is \"p\" not same as \"plus\"',\"p\" is not \"plus\")\n",
            "<ipython-input-36-0efcee03ea20>:6: SyntaxWarning: \"is\" with a literal. Did you mean \"==\"?\n",
            "  print('Is \"p\" not same as \"p\"',\"p\" is \"plus\")\n"
          ]
        }
      ]
    },
    {
      "cell_type": "markdown",
      "source": [
        "**BITWISE OPERATORS**\n",
        "\n",
        "This operators are used to perform operations on bit or binary numbers. Any number given to a bitwise operator is converted into binary numbers and then the operation is performed after the operation is perform the result is again converted to decimal number.\n",
        "\n",
        "1. **>>** : Right shift operator. used to shift bits towards right side.\n",
        "2. **<<** : Left shift operators. Used to shift bits towards left side.\n",
        "3. **&** :Its is used to perform **and** operation on binary numbers.\n",
        "4. **|** : Its is used to perform **or** operation on binary numbers."
      ],
      "metadata": {
        "id": "Bd8rQWTrFVoO"
      }
    },
    {
      "cell_type": "code",
      "source": [
        "#Examples for Bitwise Operators\n",
        "\n",
        "a = 100101\n",
        "b = 111100\n",
        "\n",
        "print(a>>2)\n",
        "print(b<<2)\n",
        "print(a&b)\n",
        "print(a|b)"
      ],
      "metadata": {
        "colab": {
          "base_uri": "https://localhost:8080/"
        },
        "id": "CmYot23kHKhs",
        "outputId": "607ef2dc-ed7c-4f1d-9fa1-1dac7166296c"
      },
      "execution_count": 40,
      "outputs": [
        {
          "output_type": "stream",
          "name": "stdout",
          "text": [
            "25025\n",
            "444400\n",
            "98564\n",
            "112637\n"
          ]
        }
      ]
    }
  ]
}