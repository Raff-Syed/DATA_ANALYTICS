{
  "nbformat": 4,
  "nbformat_minor": 0,
  "metadata": {
    "colab": {
      "provenance": []
    },
    "kernelspec": {
      "name": "python3",
      "display_name": "Python 3"
    },
    "language_info": {
      "name": "python"
    }
  },
  "cells": [
    {
      "cell_type": "markdown",
      "source": [
        "DATATYPES\n",
        "\n",
        "It is used to indicate what type of data is stored in a variable. Python does not require to specify datatype explicitly, it reconize the datatype based on the value stored in variable. The different kinds of datatypes are as follows:\n",
        "\n",
        "1. int : It is used to store integer values.\n",
        "2. float : It is used to store decimal values.\n",
        "3. str : It is used to store charaters.\n",
        "4. complex : It is used to store real and imaginary numbers.\n",
        "5. bool : It is used to store true or false.\n",
        "\n",
        "type() : This operator is used to know the datatype of variable."
      ],
      "metadata": {
        "id": "pwAjoWDO-f3_"
      }
    },
    {
      "cell_type": "code",
      "source": [
        "#Example for different datatypes\n",
        "\n",
        "a = 10\n",
        "b = 8.93\n",
        "c = \"PROGRAMMING WORLD\"\n",
        "d = \"R\"\n",
        "e = 3+4j\n",
        "f = True\n",
        "\n",
        "print(\"The datatype of a is :\", type(a))\n",
        "print(\"The datatype of b is :\", type(b))\n",
        "print(\"The datatype of c is :\", type(c))\n",
        "print(\"The datatype of d is :\", type(d))\n",
        "print(\"The datatype of e is :\", type(e))\n",
        "print(\"The datatype of f is :\", type(f))"
      ],
      "metadata": {
        "colab": {
          "base_uri": "https://localhost:8080/"
        },
        "id": "HTf6Id-M_-lh",
        "outputId": "5a772171-f466-485e-d243-01a5d58d866b"
      },
      "execution_count": 3,
      "outputs": [
        {
          "output_type": "stream",
          "name": "stdout",
          "text": [
            "The datatype of a is : <class 'int'>\n",
            "The datatype of b is : <class 'float'>\n",
            "The datatype of c is : <class 'str'>\n",
            "The datatype of d is : <class 'str'>\n",
            "The datatype of e is : <class 'complex'>\n",
            "The datatype of f is : <class 'bool'>\n"
          ]
        }
      ]
    },
    {
      "cell_type": "markdown",
      "source": [
        "STRINGS\n",
        "\n",
        "Any values enclosed within (\"\",'',''' ''') is known as a String.\n",
        "\n",
        "*. When a string consists of both ('') and (\"\") in it we use triple quotes.\n",
        " example : I'am in love with \"KERALA\"\n"
      ],
      "metadata": {
        "id": "VKMv6TcoCW1s"
      }
    },
    {
      "cell_type": "code",
      "source": [
        "#Example for String. Different knids of quotes used in different situations\n",
        "\n",
        "str1 = ''' I'am in love with \"KERALA\"'''\n",
        "print(str1)\n",
        "\n",
        "str2 = \"I'am INDIAN\"\n",
        "print(str2)\n",
        "\n",
        "str3 = \"'Data Analytics' is future\"\n",
        "print(str3)"
      ],
      "metadata": {
        "colab": {
          "base_uri": "https://localhost:8080/"
        },
        "id": "M3dbt8Z_Dlta",
        "outputId": "8da1343d-a567-4a84-80a4-7236a212e1ba"
      },
      "execution_count": 7,
      "outputs": [
        {
          "output_type": "stream",
          "name": "stdout",
          "text": [
            " I'am in love with \"KERALA\"\n",
            "I'am INDIAN\n",
            "'Data Analytics' is future\n"
          ]
        }
      ]
    },
    {
      "cell_type": "markdown",
      "source": [
        "STRING FUNCTIONS"
      ],
      "metadata": {
        "id": "evsud3OeEgDc"
      }
    },
    {
      "cell_type": "code",
      "source": [
        "# len() : It is used to find the length of string. This function also counts the whitespaces.\n",
        "\n",
        "Str = \"Data Analytics with Python\"\n",
        "print(\"Lenght : \", len(Str))\n"
      ],
      "metadata": {
        "colab": {
          "base_uri": "https://localhost:8080/"
        },
        "id": "Rg6ZJUx_EqOd",
        "outputId": "12a6a460-1d21-4f28-8fa8-0977edd64e9e"
      },
      "execution_count": 40,
      "outputs": [
        {
          "output_type": "stream",
          "name": "stdout",
          "text": [
            "Lenght :  26\n"
          ]
        }
      ]
    },
    {
      "cell_type": "code",
      "source": [
        "#upper() : It is used to convert all the letters in the string into uppercase.\n",
        "print(\"UpperCase : \" ,Str.upper())"
      ],
      "metadata": {
        "colab": {
          "base_uri": "https://localhost:8080/"
        },
        "id": "mcZfEaQZObnJ",
        "outputId": "ad5072c8-5be3-4f66-867c-a79e6cc5a2a9"
      },
      "execution_count": 41,
      "outputs": [
        {
          "output_type": "stream",
          "name": "stdout",
          "text": [
            "UpperCase :  DATA ANALYTICS WITH PYTHON\n"
          ]
        }
      ]
    },
    {
      "cell_type": "code",
      "source": [
        "#lower() : It is used to convert all the letters in the string into lowercase.\n",
        "print(\"LowerCase : \",Str.lower())"
      ],
      "metadata": {
        "colab": {
          "base_uri": "https://localhost:8080/"
        },
        "id": "Y7Kjx30IOdQm",
        "outputId": "acd6e9aa-a8e0-4245-c541-fe648ca9ec42"
      },
      "execution_count": 42,
      "outputs": [
        {
          "output_type": "stream",
          "name": "stdout",
          "text": [
            "LowerCase :  data analytics with python\n"
          ]
        }
      ]
    },
    {
      "cell_type": "code",
      "source": [
        "#capitalize() : It is used to convert only the first letter of string into uppercase.\n",
        "print(\"Captalize : \" ,Str.capitalize())"
      ],
      "metadata": {
        "colab": {
          "base_uri": "https://localhost:8080/"
        },
        "id": "Lt7PHyEfOhx5",
        "outputId": "47bfa683-d82e-4eeb-efe5-11de08413f35"
      },
      "execution_count": 43,
      "outputs": [
        {
          "output_type": "stream",
          "name": "stdout",
          "text": [
            "Captalize :  Data analytics with python\n"
          ]
        }
      ]
    },
    {
      "cell_type": "code",
      "source": [
        "#strip() : It is used to remove whitespaces from both the ends of a string.\n",
        "str1 = \"        Data Analytics with Python       \"\n",
        "print(\"Strip : \",str1.strip())\n"
      ],
      "metadata": {
        "colab": {
          "base_uri": "https://localhost:8080/"
        },
        "id": "jjWBeIKgOpoU",
        "outputId": "7d8a9914-6383-4ab2-95e4-cfac2500daf3"
      },
      "execution_count": 44,
      "outputs": [
        {
          "output_type": "stream",
          "name": "stdout",
          "text": [
            "Strip :  Data Analytics with Python\n"
          ]
        }
      ]
    },
    {
      "cell_type": "code",
      "source": [
        "#lstrip() : It is used to remove whitespaces from left ends of a string.\n",
        "print(\"Left Strip : \",str1.lstrip())"
      ],
      "metadata": {
        "colab": {
          "base_uri": "https://localhost:8080/"
        },
        "id": "9RxKHKcWOrdi",
        "outputId": "5118243b-961a-468b-d680-c5afdf1b3963"
      },
      "execution_count": 45,
      "outputs": [
        {
          "output_type": "stream",
          "name": "stdout",
          "text": [
            "Left Strip :  Data Analytics with Python       \n"
          ]
        }
      ]
    },
    {
      "cell_type": "code",
      "source": [
        "#rstrip() : It is used to remove whitespaces from right ends of a string.\n",
        "print(\"Right Strip : \",str1.rstrip())\n"
      ],
      "metadata": {
        "colab": {
          "base_uri": "https://localhost:8080/"
        },
        "id": "5IOzJIKpOz-X",
        "outputId": "99ae1df7-0666-415a-f60c-c351144c2e10"
      },
      "execution_count": 46,
      "outputs": [
        {
          "output_type": "stream",
          "name": "stdout",
          "text": [
            "Right Strip :          Data Analytics with Python\n"
          ]
        }
      ]
    },
    {
      "cell_type": "code",
      "source": [
        "#split() : It is used to divide a string based on some character.\n",
        "print(\"Split : \", Str.split(\" \"))"
      ],
      "metadata": {
        "colab": {
          "base_uri": "https://localhost:8080/"
        },
        "id": "AgOCL7x_O5V5",
        "outputId": "25115c07-66a4-45a8-c858-99196804089f"
      },
      "execution_count": 47,
      "outputs": [
        {
          "output_type": "stream",
          "name": "stdout",
          "text": [
            "Split :  ['Data', 'Analytics', 'with', 'Python']\n"
          ]
        }
      ]
    },
    {
      "cell_type": "code",
      "source": [
        "#replace() : It is used to replace one charater with another.\n",
        "print(\"Replace : \" ,Str.replace('a','o'))\n"
      ],
      "metadata": {
        "colab": {
          "base_uri": "https://localhost:8080/"
        },
        "id": "JSBuLG4xO8DT",
        "outputId": "1cae8c75-b9a4-4fca-e434-2bca0218b67b"
      },
      "execution_count": 48,
      "outputs": [
        {
          "output_type": "stream",
          "name": "stdout",
          "text": [
            "Replace :  Doto Anolytics with Python\n"
          ]
        }
      ]
    },
    {
      "cell_type": "code",
      "source": [
        "#join() : It is used to join each letter of a string with the letter specified.\n",
        "print('Join : ' , \":\".join(Str))"
      ],
      "metadata": {
        "colab": {
          "base_uri": "https://localhost:8080/"
        },
        "id": "RPBn3uwmPi0_",
        "outputId": "41ce0c3a-c29b-4d89-fdb7-43607efe3a67"
      },
      "execution_count": 49,
      "outputs": [
        {
          "output_type": "stream",
          "name": "stdout",
          "text": [
            "Join :  D:a:t:a: :A:n:a:l:y:t:i:c:s: :w:i:t:h: :P:y:t:h:o:n\n"
          ]
        }
      ]
    },
    {
      "cell_type": "code",
      "source": [
        "#find() : It returns the index position of letter specified.\n",
        "print(\"Find : \" ,Str.find('D'))\n"
      ],
      "metadata": {
        "colab": {
          "base_uri": "https://localhost:8080/"
        },
        "id": "P0M63-wAPjh6",
        "outputId": "40a78009-72e7-4f54-f330-452acf76d5c2"
      },
      "execution_count": 51,
      "outputs": [
        {
          "output_type": "stream",
          "name": "stdout",
          "text": [
            "Find :  0\n"
          ]
        }
      ]
    },
    {
      "cell_type": "code",
      "source": [
        "#swapcase() :It is used to change case of a string on upper to lower or lower to upper.\n",
        "print(\"Swap Case : \" ,Str.swapcase())\n"
      ],
      "metadata": {
        "colab": {
          "base_uri": "https://localhost:8080/"
        },
        "id": "ejOYcZrwPkKc",
        "outputId": "d5482d4d-6046-47c3-c300-99fbdf5c2df8"
      },
      "execution_count": 52,
      "outputs": [
        {
          "output_type": "stream",
          "name": "stdout",
          "text": [
            "Swap Case :  dATA aNALYTICS WITH pYTHON\n"
          ]
        }
      ]
    },
    {
      "cell_type": "code",
      "source": [
        "#count() : It is used to count the number of time particular letter occured into a string.\n",
        "print(\"Count : \" ,Str.count('n'))\n"
      ],
      "metadata": {
        "colab": {
          "base_uri": "https://localhost:8080/"
        },
        "id": "MpjHHLy6Pk7R",
        "outputId": "94ee0ef5-e67d-4bb9-cde6-ab172ff7835a"
      },
      "execution_count": 54,
      "outputs": [
        {
          "output_type": "stream",
          "name": "stdout",
          "text": [
            "Count :  2\n"
          ]
        }
      ]
    },
    {
      "cell_type": "code",
      "source": [
        "# isalnum() : It is used to check wheather the given string is alphanumeric or not. It returns True or False.\n",
        "string = \"raf123\"\n",
        "print(\"AlphaNumeric : \",string.isalnum())"
      ],
      "metadata": {
        "colab": {
          "base_uri": "https://localhost:8080/"
        },
        "id": "4Cnga9KdQE48",
        "outputId": "14d504e2-44bf-413c-e32e-8b2ac35b857e"
      },
      "execution_count": 56,
      "outputs": [
        {
          "output_type": "stream",
          "name": "stdout",
          "text": [
            "AlphaNumeric :  True\n"
          ]
        }
      ]
    },
    {
      "cell_type": "code",
      "source": [
        "# isdigit() : It is used to check wheather all the letter in a string is numbers.It returns True or False.\n",
        "string1 = \"09875431\"\n",
        "print(\"IsDigit : \" ,string1.isdigit())"
      ],
      "metadata": {
        "colab": {
          "base_uri": "https://localhost:8080/"
        },
        "id": "CcUdkl2OQNJC",
        "outputId": "96d905f4-2d43-44f3-c53c-8c6af693cd2c"
      },
      "execution_count": 57,
      "outputs": [
        {
          "output_type": "stream",
          "name": "stdout",
          "text": [
            "IsDigit :  True\n"
          ]
        }
      ]
    },
    {
      "cell_type": "code",
      "source": [
        "#isalpha() : It is used to check wheather all letter in a string is alphabhets.It returns True or False.\n",
        "print(\"IsAlpha : \" ,Str.isalpha())"
      ],
      "metadata": {
        "colab": {
          "base_uri": "https://localhost:8080/"
        },
        "id": "VNcF59lmQThh",
        "outputId": "8a0df97e-0175-4b62-da87-957456c3503d"
      },
      "execution_count": 58,
      "outputs": [
        {
          "output_type": "stream",
          "name": "stdout",
          "text": [
            "IsAlpha :  False\n"
          ]
        }
      ]
    },
    {
      "cell_type": "code",
      "source": [
        "#center() : This function is used to algin the string in center.\n",
        "print(\"Center Algin : \",Str.center(100))"
      ],
      "metadata": {
        "colab": {
          "base_uri": "https://localhost:8080/"
        },
        "id": "6o0QNR7MQZl5",
        "outputId": "3953b521-b7e1-4332-e19d-d329f51b290b"
      },
      "execution_count": 59,
      "outputs": [
        {
          "output_type": "stream",
          "name": "stdout",
          "text": [
            "Center Algin :                                       Data Analytics with Python                                     \n"
          ]
        }
      ]
    }
  ]
}